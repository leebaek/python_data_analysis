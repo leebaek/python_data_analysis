{
 "cells": [
  {
   "cell_type": "markdown",
   "metadata": {},
   "source": [
    "# Selenium 사용하기"
   ]
  },
  {
   "cell_type": "code",
   "execution_count": 1,
   "metadata": {},
   "outputs": [],
   "source": [
    "from selenium import webdriver\n",
    "from selenium.webdriver.common.keys import Keys"
   ]
  },
  {
   "cell_type": "markdown",
   "metadata": {},
   "source": [
    "### * selenium으로 naver.com접속"
   ]
  },
  {
   "cell_type": "markdown",
   "metadata": {},
   "source": [
    "###### * Chrome Webdriver : 구글에 chrome webdriver검색\n",
    "###### * 크롬과 크롬드라이버의 버전이 맞아야 한다."
   ]
  },
  {
   "cell_type": "code",
   "execution_count": 2,
   "metadata": {},
   "outputs": [],
   "source": [
    "driver = webdriver.Chrome('driver/chromedriver.exe')\n",
    "driver.get(\"http://naver.com/\")"
   ]
  },
  {
   "cell_type": "markdown",
   "metadata": {},
   "source": [
    "###### * 화면 캡쳐"
   ]
  },
  {
   "cell_type": "code",
   "execution_count": 20,
   "metadata": {},
   "outputs": [],
   "source": [
    "# driver.save_screenshot('images/001.jpg')"
   ]
  },
  {
   "cell_type": "markdown",
   "metadata": {},
   "source": [
    "###### * 네이버 로그인 버튼 클릭하는 로직(크롬 개발자도구에서 XPath활용)"
   ]
  },
  {
   "cell_type": "code",
   "execution_count": 4,
   "metadata": {},
   "outputs": [],
   "source": [
    "# driver.find_element_by_xpath(\"//*[@id='account']/div/a/i\").send_keys(Keys.ENTER)\n",
    "element = driver.find_element_by_xpath(\"//*[@id='account']/div/a/i\")\n",
    "driver.execute_script(\"arguments[0].click();\", element)"
   ]
  },
  {
   "cell_type": "markdown",
   "metadata": {},
   "source": [
    "###### * 로그인 창에서 아이디와 비밀번호를 입력하는 로직"
   ]
  },
  {
   "cell_type": "code",
   "execution_count": 5,
   "metadata": {},
   "outputs": [],
   "source": [
    "elem_login = driver.find_element_by_id(\"id\")\n",
    "# find_element_by_id : selenium이 제공하는 명령\n",
    "elem_login.clear()\n",
    "# clear() : 이미 입력된 글자가 있다면 지움\n",
    "elem_login.send_keys(\"seekyefirst-\")\n",
    "# send_keys : 자신의 아이디 입력\n",
    "\n",
    "elem_login = driver.find_element_by_id(\"pw\")\n",
    "elem_login.clear()\n",
    "elem_login.send_keys(\"*****\")"
   ]
  },
  {
   "cell_type": "markdown",
   "metadata": {},
   "source": [
    "###### * 로그인 버튼 클릭하는 로직"
   ]
  },
  {
   "cell_type": "code",
   "execution_count": 6,
   "metadata": {},
   "outputs": [],
   "source": [
    "xpath = \"\"\"//*[@id=\"frmNIDLogin\"]/fieldset/input\"\"\"\n",
    "driver.find_element_by_xpath(xpath).click()"
   ]
  },
  {
   "cell_type": "markdown",
   "metadata": {},
   "source": [
    "###### * 과정은 완벽하나 자동입력방지로 한번에 로그인이 되지 않는다."
   ]
  },
  {
   "cell_type": "markdown",
   "metadata": {},
   "source": [
    "###### * 메일창 접속"
   ]
  },
  {
   "cell_type": "code",
   "execution_count": 7,
   "metadata": {},
   "outputs": [],
   "source": [
    "driver.get(\"http://mail.naver.com\")"
   ]
  },
  {
   "cell_type": "code",
   "execution_count": 8,
   "metadata": {},
   "outputs": [],
   "source": [
    "from bs4 import BeautifulSoup\n",
    "\n",
    "html = driver.page_source\n",
    "soup = BeautifulSoup(html, 'html.parser')"
   ]
  },
  {
   "cell_type": "markdown",
   "metadata": {},
   "source": [
    "###### * 메일을 보낸 사람이 나타나는 곳의 태그를 확인할 수 있다."
   ]
  },
  {
   "cell_type": "code",
   "execution_count": 9,
   "metadata": {},
   "outputs": [
    {
     "data": {
      "text/plain": [
       "[<div class=\"name _ccr(lst.from)\"><span class=\"blind\">보낸 이:</span><a class=\"_c1(myContextMenu|showSenderContextLayer|list|10449) _stopDefault\" href=\"#\" title='\"한국장학재단\" &lt;webzine@kosaf.go.kr&gt;'>한국장학재단</a></div>,\n",
       " <div class=\"name _ccr(lst.from)\"><span class=\"blind\">보낸 이:</span><a class=\"_c1(myContextMenu|showSenderContextLayer|list|10447) _stopDefault\" href=\"#\" title='\"네이버 클라우드 플랫폼\" &lt;no-reply-ecosupport@navercorp.com&gt;'>네이버 클라우드 플랫..</a></div>,\n",
       " <div class=\"name _ccr(lst.from)\"><span class=\"blind\">보낸 이:</span><a class=\"_c1(myContextMenu|showSenderContextLayer|list|10446) _stopDefault\" href=\"#\" title='\"네이버 클라우드 플랫폼\" &lt;no-reply-ecosupport@navercorp.com&gt;'>네이버 클라우드 플랫..</a></div>,\n",
       " <div class=\"name _ccr(lst.from)\"><span class=\"blind\">보낸 이:</span><a class=\"_c1(myContextMenu|showSenderContextLayer|list|10445) _stopDefault\" href=\"#\" title='\"Dropbox\" &lt;no-reply@dropboxmail.com&gt;'>Dropbox</a></div>,\n",
       " <div class=\"name _ccr(lst.from)\"><span class=\"blind\">보낸 이:</span><a class=\"_c1(myContextMenu|showSenderContextLayer|list|10444) _stopDefault\" href=\"#\" title='\"지니뮤직\" &lt;reply@genie.co.kr&gt;'>지니뮤직</a></div>,\n",
       " <div class=\"name _ccr(lst.from)\"><span class=\"blind\">보낸 이:</span><a class=\"_c1(myContextMenu|showSenderContextLayer|list|10443) _stopDefault\" href=\"#\" title='\"이진희\" &lt;jinhee06.lee@multicampus.com&gt;'>이진희</a></div>,\n",
       " <div class=\"name _ccr(lst.from)\"><span class=\"blind\">보낸 이:</span><a class=\"_c1(myContextMenu|showSenderContextLayer|list|10442) _stopDefault\" href=\"#\" title='\"나이스페이\" &lt;abc@nicepay.co.kr&gt;'>나이스페이</a></div>,\n",
       " <div class=\"name _ccr(lst.from)\"><span class=\"blind\">보낸 이:</span><a class=\"_c1(myContextMenu|showSenderContextLayer|list|10441) _stopDefault\" href=\"#\" title='\"나이스페이\" &lt;abc@nicepay.co.kr&gt;'>나이스페이</a></div>,\n",
       " <div class=\"name _ccr(lst.from)\"><span class=\"blind\">보낸 이:</span><a class=\"_c1(myContextMenu|showSenderContextLayer|list|10440) _stopDefault\" href=\"#\" title='\"Instagram\" &lt;security@mail.instagram.com&gt;'>Instagram</a></div>,\n",
       " <div class=\"name _ccr(lst.from)\"><span class=\"blind\">보낸 이:</span><a class=\"_c1(myContextMenu|showSenderContextLayer|list|10438) _stopDefault\" href=\"#\" title='\"YBMNET\" &lt;retrun@mail.ybm.co.kr&gt;'>YBMNET</a></div>,\n",
       " <div class=\"name _ccr(lst.from)\"><span class=\"blind\">보낸 이:</span><a class=\"_c1(myContextMenu|showSenderContextLayer|list|10437) _stopDefault\" href=\"#\" title='\"Microsoft Azure\" &lt;azure-noreply@microsoft.com&gt;'>Microsoft Azure</a></div>,\n",
       " <div class=\"name _ccr(lst.from)\"><span class=\"blind\">보낸 이:</span><a class=\"_c1(myContextMenu|showSenderContextLayer|list|10435) _stopDefault\" href=\"#\" title='\"사람인 | 관심기업\" &lt;favorcompany@mailinfo.saramin.co.kr&gt;'>사람인 | 관심기업</a></div>,\n",
       " <div class=\"name _ccr(lst.from)\"><span class=\"blind\">보낸 이:</span><a class=\"_c1(myContextMenu|showSenderContextLayer|list|10434) _stopDefault\" href=\"#\" title='\"나이스페이\" &lt;abc@nicepay.co.kr&gt;'>나이스페이</a></div>,\n",
       " <div class=\"name _ccr(lst.from)\"><span class=\"blind\">보낸 이:</span><a class=\"_c1(myContextMenu|showSenderContextLayer|list|10431) _stopDefault\" href=\"#\" title='\"쿠팡\" &lt;noreply@e.coupang.com&gt;'>쿠팡</a></div>,\n",
       " <div class=\"name _ccr(lst.from)\"><span class=\"blind\">보낸 이:</span><a class=\"_c1(myContextMenu|showSenderContextLayer|list|10430) _stopDefault\" href=\"#\" title='\"Instagram\" &lt;security@mail.instagram.com&gt;'>Instagram</a></div>]"
      ]
     },
     "execution_count": 9,
     "metadata": {},
     "output_type": "execute_result"
    }
   ],
   "source": [
    "raw_list = soup.find_all('div', 'name _ccr(lst.from)')\n",
    "raw_list"
   ]
  },
  {
   "cell_type": "markdown",
   "metadata": {},
   "source": [
    "###### * 보낸 사람만 출력해준다."
   ]
  },
  {
   "cell_type": "code",
   "execution_count": 10,
   "metadata": {},
   "outputs": [
    {
     "data": {
      "text/plain": [
       "['한국장학재단',\n",
       " '네이버 클라우드 플랫..',\n",
       " '네이버 클라우드 플랫..',\n",
       " 'Dropbox',\n",
       " '지니뮤직',\n",
       " '이진희',\n",
       " '나이스페이',\n",
       " '나이스페이',\n",
       " 'Instagram',\n",
       " 'YBMNET',\n",
       " 'Microsoft Azure',\n",
       " '사람인 | 관심기업',\n",
       " '나이스페이',\n",
       " '쿠팡',\n",
       " 'Instagram']"
      ]
     },
     "execution_count": 10,
     "metadata": {},
     "output_type": "execute_result"
    }
   ],
   "source": [
    "send_list = [raw_list[n].find('a').get_text() for n in range(0, len(raw_list))]\n",
    "send_list"
   ]
  },
  {
   "cell_type": "markdown",
   "metadata": {},
   "source": [
    "###### * 크롬드라이버 종료"
   ]
  },
  {
   "cell_type": "code",
   "execution_count": 11,
   "metadata": {},
   "outputs": [],
   "source": [
    "driver.close()"
   ]
  },
  {
   "cell_type": "code",
   "execution_count": null,
   "metadata": {},
   "outputs": [],
   "source": []
  },
  {
   "cell_type": "code",
   "execution_count": null,
   "metadata": {},
   "outputs": [],
   "source": []
  },
  {
   "cell_type": "code",
   "execution_count": null,
   "metadata": {},
   "outputs": [],
   "source": []
  },
  {
   "cell_type": "code",
   "execution_count": null,
   "metadata": {},
   "outputs": [],
   "source": []
  },
  {
   "cell_type": "code",
   "execution_count": null,
   "metadata": {},
   "outputs": [],
   "source": []
  },
  {
   "cell_type": "code",
   "execution_count": null,
   "metadata": {},
   "outputs": [],
   "source": []
  },
  {
   "cell_type": "code",
   "execution_count": null,
   "metadata": {},
   "outputs": [],
   "source": []
  },
  {
   "cell_type": "code",
   "execution_count": null,
   "metadata": {},
   "outputs": [],
   "source": []
  }
 ],
 "metadata": {
  "kernelspec": {
   "display_name": "Python 3",
   "language": "python",
   "name": "python3"
  },
  "language_info": {
   "codemirror_mode": {
    "name": "ipython",
    "version": 3
   },
   "file_extension": ".py",
   "mimetype": "text/x-python",
   "name": "python",
   "nbconvert_exporter": "python",
   "pygments_lexer": "ipython3",
   "version": "3.7.3"
  }
 },
 "nbformat": 4,
 "nbformat_minor": 2
}
