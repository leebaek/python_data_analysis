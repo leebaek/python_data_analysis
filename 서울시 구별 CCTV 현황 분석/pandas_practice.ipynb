{
 "cells": [
  {
   "cell_type": "code",
   "execution_count": 1,
   "metadata": {},
   "outputs": [],
   "source": [
    "import pandas as pd\n",
    "import numpy as np"
   ]
  },
  {
   "cell_type": "code",
   "execution_count": 4,
   "metadata": {},
   "outputs": [
    {
     "data": {
      "text/plain": [
       "0    1.0\n",
       "1    3.0\n",
       "2    5.0\n",
       "3    NaN\n",
       "4    6.0\n",
       "5    8.0\n",
       "dtype: float64"
      ]
     },
     "execution_count": 4,
     "metadata": {},
     "output_type": "execute_result"
    }
   ],
   "source": [
    "# series생성\n",
    "s = pd.Series([1,3,5,np.nan,6,8])\n",
    "s"
   ]
  },
  {
   "cell_type": "code",
   "execution_count": 40,
   "metadata": {},
   "outputs": [
    {
     "data": {
      "text/plain": [
       "DatetimeIndex(['2019-01-01', '2019-01-02', '2019-01-03', '2019-01-04',\n",
       "               '2019-01-05', '2019-01-06'],\n",
       "              dtype='datetime64[ns]', freq='D')"
      ]
     },
     "execution_count": 40,
     "metadata": {},
     "output_type": "execute_result"
    }
   ],
   "source": [
    "# 날짜형 데이터 'date_range'\n",
    "dates = pd.date_range('20190101', periods=6)\n",
    "dates"
   ]
  },
  {
   "cell_type": "code",
   "execution_count": 11,
   "metadata": {},
   "outputs": [
    {
     "data": {
      "text/html": [
       "<div>\n",
       "<style scoped>\n",
       "    .dataframe tbody tr th:only-of-type {\n",
       "        vertical-align: middle;\n",
       "    }\n",
       "\n",
       "    .dataframe tbody tr th {\n",
       "        vertical-align: top;\n",
       "    }\n",
       "\n",
       "    .dataframe thead th {\n",
       "        text-align: right;\n",
       "    }\n",
       "</style>\n",
       "<table border=\"1\" class=\"dataframe\">\n",
       "  <thead>\n",
       "    <tr style=\"text-align: right;\">\n",
       "      <th></th>\n",
       "      <th>A</th>\n",
       "      <th>B</th>\n",
       "      <th>C</th>\n",
       "      <th>D</th>\n",
       "    </tr>\n",
       "  </thead>\n",
       "  <tbody>\n",
       "    <tr>\n",
       "      <th>2019-01-01</th>\n",
       "      <td>-0.237972</td>\n",
       "      <td>0.502488</td>\n",
       "      <td>-0.660662</td>\n",
       "      <td>-0.035297</td>\n",
       "    </tr>\n",
       "    <tr>\n",
       "      <th>2019-01-02</th>\n",
       "      <td>0.845397</td>\n",
       "      <td>-1.158277</td>\n",
       "      <td>0.242403</td>\n",
       "      <td>0.706923</td>\n",
       "    </tr>\n",
       "    <tr>\n",
       "      <th>2019-01-03</th>\n",
       "      <td>-0.537115</td>\n",
       "      <td>1.378783</td>\n",
       "      <td>1.223990</td>\n",
       "      <td>1.281566</td>\n",
       "    </tr>\n",
       "    <tr>\n",
       "      <th>2019-01-04</th>\n",
       "      <td>-0.076470</td>\n",
       "      <td>2.049692</td>\n",
       "      <td>1.317591</td>\n",
       "      <td>-1.068869</td>\n",
       "    </tr>\n",
       "    <tr>\n",
       "      <th>2019-01-05</th>\n",
       "      <td>0.018789</td>\n",
       "      <td>0.031324</td>\n",
       "      <td>0.074842</td>\n",
       "      <td>2.532782</td>\n",
       "    </tr>\n",
       "    <tr>\n",
       "      <th>2019-01-06</th>\n",
       "      <td>-0.462700</td>\n",
       "      <td>-1.379926</td>\n",
       "      <td>-0.320027</td>\n",
       "      <td>1.073467</td>\n",
       "    </tr>\n",
       "  </tbody>\n",
       "</table>\n",
       "</div>"
      ],
      "text/plain": [
       "                   A         B         C         D\n",
       "2019-01-01 -0.237972  0.502488 -0.660662 -0.035297\n",
       "2019-01-02  0.845397 -1.158277  0.242403  0.706923\n",
       "2019-01-03 -0.537115  1.378783  1.223990  1.281566\n",
       "2019-01-04 -0.076470  2.049692  1.317591 -1.068869\n",
       "2019-01-05  0.018789  0.031324  0.074842  2.532782\n",
       "2019-01-06 -0.462700 -1.379926 -0.320027  1.073467"
      ]
     },
     "execution_count": 11,
     "metadata": {},
     "output_type": "execute_result"
    }
   ],
   "source": [
    "# dataframe 생성\n",
    "df = pd.DataFrame(np.random.randn(6,4), index=dates, columns=['A','B','C','D'])\n",
    "# 6x4의 random 변수 / columns는 A, B, C, D로 지정 / 날짜형 데이터 dates 옵션 \n",
    "df"
   ]
  },
  {
   "cell_type": "code",
   "execution_count": 22,
   "metadata": {},
   "outputs": [
    {
     "name": "stdout",
     "output_type": "stream",
     "text": [
      "<class 'pandas.core.frame.DataFrame'>\n",
      "DatetimeIndex: 6 entries, 2019-01-01 to 2019-01-06\n",
      "Freq: D\n",
      "Data columns (total 4 columns):\n",
      "A    6 non-null float64\n",
      "B    6 non-null float64\n",
      "C    6 non-null float64\n",
      "D    6 non-null float64\n",
      "dtypes: float64(4)\n",
      "memory usage: 240.0 bytes\n"
     ]
    },
    {
     "data": {
      "text/html": [
       "<div>\n",
       "<style scoped>\n",
       "    .dataframe tbody tr th:only-of-type {\n",
       "        vertical-align: middle;\n",
       "    }\n",
       "\n",
       "    .dataframe tbody tr th {\n",
       "        vertical-align: top;\n",
       "    }\n",
       "\n",
       "    .dataframe thead th {\n",
       "        text-align: right;\n",
       "    }\n",
       "</style>\n",
       "<table border=\"1\" class=\"dataframe\">\n",
       "  <thead>\n",
       "    <tr style=\"text-align: right;\">\n",
       "      <th></th>\n",
       "      <th>A</th>\n",
       "      <th>B</th>\n",
       "      <th>C</th>\n",
       "      <th>D</th>\n",
       "    </tr>\n",
       "  </thead>\n",
       "  <tbody>\n",
       "    <tr>\n",
       "      <th>2019-01-04</th>\n",
       "      <td>-0.076470</td>\n",
       "      <td>2.049692</td>\n",
       "      <td>1.317591</td>\n",
       "      <td>-1.068869</td>\n",
       "    </tr>\n",
       "    <tr>\n",
       "      <th>2019-01-03</th>\n",
       "      <td>-0.537115</td>\n",
       "      <td>1.378783</td>\n",
       "      <td>1.223990</td>\n",
       "      <td>1.281566</td>\n",
       "    </tr>\n",
       "    <tr>\n",
       "      <th>2019-01-01</th>\n",
       "      <td>-0.237972</td>\n",
       "      <td>0.502488</td>\n",
       "      <td>-0.660662</td>\n",
       "      <td>-0.035297</td>\n",
       "    </tr>\n",
       "    <tr>\n",
       "      <th>2019-01-05</th>\n",
       "      <td>0.018789</td>\n",
       "      <td>0.031324</td>\n",
       "      <td>0.074842</td>\n",
       "      <td>2.532782</td>\n",
       "    </tr>\n",
       "    <tr>\n",
       "      <th>2019-01-02</th>\n",
       "      <td>0.845397</td>\n",
       "      <td>-1.158277</td>\n",
       "      <td>0.242403</td>\n",
       "      <td>0.706923</td>\n",
       "    </tr>\n",
       "    <tr>\n",
       "      <th>2019-01-06</th>\n",
       "      <td>-0.462700</td>\n",
       "      <td>-1.379926</td>\n",
       "      <td>-0.320027</td>\n",
       "      <td>1.073467</td>\n",
       "    </tr>\n",
       "  </tbody>\n",
       "</table>\n",
       "</div>"
      ],
      "text/plain": [
       "                   A         B         C         D\n",
       "2019-01-04 -0.076470  2.049692  1.317591 -1.068869\n",
       "2019-01-03 -0.537115  1.378783  1.223990  1.281566\n",
       "2019-01-01 -0.237972  0.502488 -0.660662 -0.035297\n",
       "2019-01-05  0.018789  0.031324  0.074842  2.532782\n",
       "2019-01-02  0.845397 -1.158277  0.242403  0.706923\n",
       "2019-01-06 -0.462700 -1.379926 -0.320027  1.073467"
      ]
     },
     "execution_count": 22,
     "metadata": {},
     "output_type": "execute_result"
    }
   ],
   "source": [
    "df.head(3)\n",
    "df.index # 인덱스\n",
    "df.columns # 컬럼\n",
    "df.values # 내용\n",
    "df.info() # 개요\n",
    "df.describe() # 통계적 개요\n",
    "df.sort_values(by='B', ascending=False) # 'B' column을 기준으로 내림차순 정렬"
   ]
  },
  {
   "cell_type": "code",
   "execution_count": 29,
   "metadata": {},
   "outputs": [
    {
     "data": {
      "text/html": [
       "<div>\n",
       "<style scoped>\n",
       "    .dataframe tbody tr th:only-of-type {\n",
       "        vertical-align: middle;\n",
       "    }\n",
       "\n",
       "    .dataframe tbody tr th {\n",
       "        vertical-align: top;\n",
       "    }\n",
       "\n",
       "    .dataframe thead th {\n",
       "        text-align: right;\n",
       "    }\n",
       "</style>\n",
       "<table border=\"1\" class=\"dataframe\">\n",
       "  <thead>\n",
       "    <tr style=\"text-align: right;\">\n",
       "      <th></th>\n",
       "      <th>A</th>\n",
       "      <th>B</th>\n",
       "      <th>C</th>\n",
       "      <th>D</th>\n",
       "    </tr>\n",
       "  </thead>\n",
       "  <tbody>\n",
       "    <tr>\n",
       "      <th>2019-01-02</th>\n",
       "      <td>0.845397</td>\n",
       "      <td>-1.158277</td>\n",
       "      <td>0.242403</td>\n",
       "      <td>0.706923</td>\n",
       "    </tr>\n",
       "    <tr>\n",
       "      <th>2019-01-03</th>\n",
       "      <td>-0.537115</td>\n",
       "      <td>1.378783</td>\n",
       "      <td>1.223990</td>\n",
       "      <td>1.281566</td>\n",
       "    </tr>\n",
       "    <tr>\n",
       "      <th>2019-01-04</th>\n",
       "      <td>-0.076470</td>\n",
       "      <td>2.049692</td>\n",
       "      <td>1.317591</td>\n",
       "      <td>-1.068869</td>\n",
       "    </tr>\n",
       "  </tbody>\n",
       "</table>\n",
       "</div>"
      ],
      "text/plain": [
       "                   A         B         C         D\n",
       "2019-01-02  0.845397 -1.158277  0.242403  0.706923\n",
       "2019-01-03 -0.537115  1.378783  1.223990  1.281566\n",
       "2019-01-04 -0.076470  2.049692  1.317591 -1.068869"
      ]
     },
     "execution_count": 29,
     "metadata": {},
     "output_type": "execute_result"
    }
   ],
   "source": [
    "df['A']\n",
    "df[0:3] # 슬라이싱으로 1행에서 3행까지\n",
    "df['20190102':'20190104'] # 특정 행을 보고 싶을 때"
   ]
  },
  {
   "cell_type": "code",
   "execution_count": 48,
   "metadata": {},
   "outputs": [
    {
     "data": {
      "text/plain": [
       "-0.2379722798768409"
      ]
     },
     "execution_count": 48,
     "metadata": {},
     "output_type": "execute_result"
    }
   ],
   "source": [
    "# loc : 행과 열의 정보를 이용해서 데이터에 접근\n",
    "df.loc[dates[0]] # location 옵션으로 위치 값을 지정할 수 있음. 여기서는 특정 날짜의 데이터만 보여줌.\n",
    "df.loc[:,['A','B']] # A, B열의 모든 행을 보여줌. df.loc[행,열]\n",
    "df.loc['20190102':'20190104',['A','B']]\n",
    "df.loc['20190102',['A','B']]\n",
    "df.loc[dates[0],'A'] # dates의 0에 맞는 날짜(20190101)의 'A'컬럼만 선택"
   ]
  },
  {
   "cell_type": "code",
   "execution_count": 53,
   "metadata": {},
   "outputs": [
    {
     "data": {
      "text/html": [
       "<div>\n",
       "<style scoped>\n",
       "    .dataframe tbody tr th:only-of-type {\n",
       "        vertical-align: middle;\n",
       "    }\n",
       "\n",
       "    .dataframe tbody tr th {\n",
       "        vertical-align: top;\n",
       "    }\n",
       "\n",
       "    .dataframe thead th {\n",
       "        text-align: right;\n",
       "    }\n",
       "</style>\n",
       "<table border=\"1\" class=\"dataframe\">\n",
       "  <thead>\n",
       "    <tr style=\"text-align: right;\">\n",
       "      <th></th>\n",
       "      <th>B</th>\n",
       "      <th>C</th>\n",
       "    </tr>\n",
       "  </thead>\n",
       "  <tbody>\n",
       "    <tr>\n",
       "      <th>2019-01-01</th>\n",
       "      <td>0.502488</td>\n",
       "      <td>-0.660662</td>\n",
       "    </tr>\n",
       "    <tr>\n",
       "      <th>2019-01-02</th>\n",
       "      <td>-1.158277</td>\n",
       "      <td>0.242403</td>\n",
       "    </tr>\n",
       "    <tr>\n",
       "      <th>2019-01-03</th>\n",
       "      <td>1.378783</td>\n",
       "      <td>1.223990</td>\n",
       "    </tr>\n",
       "    <tr>\n",
       "      <th>2019-01-04</th>\n",
       "      <td>2.049692</td>\n",
       "      <td>1.317591</td>\n",
       "    </tr>\n",
       "    <tr>\n",
       "      <th>2019-01-05</th>\n",
       "      <td>0.031324</td>\n",
       "      <td>0.074842</td>\n",
       "    </tr>\n",
       "    <tr>\n",
       "      <th>2019-01-06</th>\n",
       "      <td>-1.379926</td>\n",
       "      <td>-0.320027</td>\n",
       "    </tr>\n",
       "  </tbody>\n",
       "</table>\n",
       "</div>"
      ],
      "text/plain": [
       "                   B         C\n",
       "2019-01-01  0.502488 -0.660662\n",
       "2019-01-02 -1.158277  0.242403\n",
       "2019-01-03  1.378783  1.223990\n",
       "2019-01-04  2.049692  1.317591\n",
       "2019-01-05  0.031324  0.074842\n",
       "2019-01-06 -1.379926 -0.320027"
      ]
     },
     "execution_count": 53,
     "metadata": {},
     "output_type": "execute_result"
    }
   ],
   "source": [
    "# iloc : 행과 열의 번호를 이용해서 데이터에 접근\n",
    "df.iloc[3] # 20190104의 모든 컬럼의 내용\n",
    "df.iloc[3:5,0:2] # slicing\n",
    "df.iloc[[1,2,4],[0,2]] # 선택 슬라이싱\n",
    "df.iloc[1:3,:]\n",
    "df.iloc[:,1:3]\n",
    "df[df.A > 0] # df의 'A'컬럼의 값이 0보다 큰 행의 모든 값 출력"
   ]
  },
  {
   "cell_type": "code",
   "execution_count": 64,
   "metadata": {},
   "outputs": [
    {
     "data": {
      "text/html": [
       "<div>\n",
       "<style scoped>\n",
       "    .dataframe tbody tr th:only-of-type {\n",
       "        vertical-align: middle;\n",
       "    }\n",
       "\n",
       "    .dataframe tbody tr th {\n",
       "        vertical-align: top;\n",
       "    }\n",
       "\n",
       "    .dataframe thead th {\n",
       "        text-align: right;\n",
       "    }\n",
       "</style>\n",
       "<table border=\"1\" class=\"dataframe\">\n",
       "  <thead>\n",
       "    <tr style=\"text-align: right;\">\n",
       "      <th></th>\n",
       "      <th>A</th>\n",
       "      <th>B</th>\n",
       "      <th>C</th>\n",
       "      <th>D</th>\n",
       "      <th>E</th>\n",
       "    </tr>\n",
       "  </thead>\n",
       "  <tbody>\n",
       "    <tr>\n",
       "      <th>2019-01-01</th>\n",
       "      <td>-0.237972</td>\n",
       "      <td>0.502488</td>\n",
       "      <td>-0.660662</td>\n",
       "      <td>-0.035297</td>\n",
       "      <td>one</td>\n",
       "    </tr>\n",
       "    <tr>\n",
       "      <th>2019-01-02</th>\n",
       "      <td>0.845397</td>\n",
       "      <td>-1.158277</td>\n",
       "      <td>0.242403</td>\n",
       "      <td>0.706923</td>\n",
       "      <td>one</td>\n",
       "    </tr>\n",
       "    <tr>\n",
       "      <th>2019-01-03</th>\n",
       "      <td>-0.537115</td>\n",
       "      <td>1.378783</td>\n",
       "      <td>1.223990</td>\n",
       "      <td>1.281566</td>\n",
       "      <td>two</td>\n",
       "    </tr>\n",
       "    <tr>\n",
       "      <th>2019-01-04</th>\n",
       "      <td>-0.076470</td>\n",
       "      <td>2.049692</td>\n",
       "      <td>1.317591</td>\n",
       "      <td>-1.068869</td>\n",
       "      <td>three</td>\n",
       "    </tr>\n",
       "    <tr>\n",
       "      <th>2019-01-05</th>\n",
       "      <td>0.018789</td>\n",
       "      <td>0.031324</td>\n",
       "      <td>0.074842</td>\n",
       "      <td>2.532782</td>\n",
       "      <td>four</td>\n",
       "    </tr>\n",
       "    <tr>\n",
       "      <th>2019-01-06</th>\n",
       "      <td>-0.462700</td>\n",
       "      <td>-1.379926</td>\n",
       "      <td>-0.320027</td>\n",
       "      <td>1.073467</td>\n",
       "      <td>three</td>\n",
       "    </tr>\n",
       "  </tbody>\n",
       "</table>\n",
       "</div>"
      ],
      "text/plain": [
       "                   A         B         C         D      E\n",
       "2019-01-01 -0.237972  0.502488 -0.660662 -0.035297    one\n",
       "2019-01-02  0.845397 -1.158277  0.242403  0.706923    one\n",
       "2019-01-03 -0.537115  1.378783  1.223990  1.281566    two\n",
       "2019-01-04 -0.076470  2.049692  1.317591 -1.068869  three\n",
       "2019-01-05  0.018789  0.031324  0.074842  2.532782   four\n",
       "2019-01-06 -0.462700 -1.379926 -0.320027  1.073467  three"
      ]
     },
     "execution_count": 64,
     "metadata": {},
     "output_type": "execute_result"
    }
   ],
   "source": [
    "# copy : 데이터 복사\n",
    "df2 = df.copy()\n",
    "df2['E'] = ['one', 'one', 'two', 'three', 'four', 'three']\n",
    "df2"
   ]
  },
  {
   "cell_type": "code",
   "execution_count": 68,
   "metadata": {},
   "outputs": [
    {
     "data": {
      "text/html": [
       "<div>\n",
       "<style scoped>\n",
       "    .dataframe tbody tr th:only-of-type {\n",
       "        vertical-align: middle;\n",
       "    }\n",
       "\n",
       "    .dataframe tbody tr th {\n",
       "        vertical-align: top;\n",
       "    }\n",
       "\n",
       "    .dataframe thead th {\n",
       "        text-align: right;\n",
       "    }\n",
       "</style>\n",
       "<table border=\"1\" class=\"dataframe\">\n",
       "  <thead>\n",
       "    <tr style=\"text-align: right;\">\n",
       "      <th></th>\n",
       "      <th>A</th>\n",
       "      <th>B</th>\n",
       "      <th>C</th>\n",
       "      <th>D</th>\n",
       "      <th>E</th>\n",
       "    </tr>\n",
       "  </thead>\n",
       "  <tbody>\n",
       "    <tr>\n",
       "      <th>2019-01-03</th>\n",
       "      <td>-0.537115</td>\n",
       "      <td>1.378783</td>\n",
       "      <td>1.223990</td>\n",
       "      <td>1.281566</td>\n",
       "      <td>two</td>\n",
       "    </tr>\n",
       "    <tr>\n",
       "      <th>2019-01-05</th>\n",
       "      <td>0.018789</td>\n",
       "      <td>0.031324</td>\n",
       "      <td>0.074842</td>\n",
       "      <td>2.532782</td>\n",
       "      <td>four</td>\n",
       "    </tr>\n",
       "  </tbody>\n",
       "</table>\n",
       "</div>"
      ],
      "text/plain": [
       "                   A         B         C         D     E\n",
       "2019-01-03 -0.537115  1.378783  1.223990  1.281566   two\n",
       "2019-01-05  0.018789  0.031324  0.074842  2.532782  four"
      ]
     },
     "execution_count": 68,
     "metadata": {},
     "output_type": "execute_result"
    }
   ],
   "source": [
    "df2['E'].isin(['two','four']) # df2의 'E'컬럼의 내용 중 'two','four'가 있으면 True 출력\n",
    "df2[df2['E'].isin(['two','four'])] # df2의 'E'컬럼의 내용 중 'two','four'가 있는 행 출력"
   ]
  },
  {
   "cell_type": "code",
   "execution_count": 70,
   "metadata": {},
   "outputs": [
    {
     "data": {
      "text/plain": [
       "A    1.382512\n",
       "B    3.429618\n",
       "C    1.978253\n",
       "D    3.601651\n",
       "dtype: float64"
      ]
     },
     "execution_count": 70,
     "metadata": {},
     "output_type": "execute_result"
    }
   ],
   "source": [
    "df.apply(np.cumsum) # 각 column의 누적 합\n",
    "df.apply(lambda x: x.max() - x.min()) # 각 column의 최대값과 최소값의 차이"
   ]
  }
 ],
 "metadata": {
  "kernelspec": {
   "display_name": "Python 3",
   "language": "python",
   "name": "python3"
  },
  "language_info": {
   "codemirror_mode": {
    "name": "ipython",
    "version": 3
   },
   "file_extension": ".py",
   "mimetype": "text/x-python",
   "name": "python",
   "nbconvert_exporter": "python",
   "pygments_lexer": "ipython3",
   "version": "3.7.3"
  }
 },
 "nbformat": 4,
 "nbformat_minor": 2
}
